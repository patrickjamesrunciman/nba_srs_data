{
 "cells": [
  {
   "cell_type": "code",
   "execution_count": 12,
   "metadata": {},
   "outputs": [],
   "source": [
    "import urllib.request, urllib.parse, urllib.error\n",
    "from bs4 import BeautifulSoup\n",
    "from re import sub\n",
    "import string\n",
    "from urllib.request import urlopen\n",
    "import pandas as pd\n",
    "import numpy as np\n",
    "import requests"
   ]
  },
  {
   "cell_type": "code",
   "execution_count": 2,
   "metadata": {},
   "outputs": [],
   "source": [
    "url = 'https://www.basketball-reference.com/awards/mvp.html'\n",
    "\n",
    "table_html = str((BeautifulSoup(urlopen(url), 'html.parser').findAll('table', id = 'mvp_NBA')[0]))\n"
   ]
  },
  {
   "cell_type": "code",
   "execution_count": 3,
   "metadata": {},
   "outputs": [],
   "source": [
    "df_MVP = pd.read_html(table_html)[0]\n",
    "\n",
    "df_MVP.columns = df_MVP.columns.droplevel(0)\n",
    "df1_MVP = df_MVP[['Player', 'Age']]\n",
    "df2_MVP = df_MVP[['Player', 'PTS', 'TRB', 'AST']]\n"
   ]
  },
  {
   "cell_type": "code",
   "execution_count": 4,
   "metadata": {},
   "outputs": [
    {
     "name": "stdout",
     "output_type": "stream",
     "text": [
      "Average MVP age: 27.55\n",
      "Average MVP PPG: 26.48\n",
      "Average MVP APG: 5.72\n",
      "Average MVP RPG: 12.4\n",
      "Oldest MVP age: count    67.000000\n",
      "mean     27.134328\n",
      "std       2.907126\n",
      "min      22.000000\n",
      "25%      25.000000\n",
      "50%      27.000000\n",
      "75%      29.000000\n",
      "max      35.000000\n",
      "Name: Age, dtype: float64\n"
     ]
    }
   ],
   "source": [
    "MVP_age = (df1_MVP['Age'].sum())/66\n",
    "print('Average MVP age:', round(MVP_age, 2))\n",
    "\n",
    "MVP_ppg = (df2_MVP['PTS'].sum())/66\n",
    "print('Average MVP PPG:', round(MVP_ppg, 2))\n",
    "\n",
    "MVP_ast = (df2_MVP['AST'].sum())/66\n",
    "print('Average MVP APG:', round(MVP_ast, 2))\n",
    "\n",
    "MVP_RPG = (df2_MVP['TRB'].sum())/66\n",
    "print('Average MVP RPG:', round(MVP_RPG, 2))\n",
    "\n",
    "oldest = df1_MVP['Age'].describe()\n",
    "print('Oldest MVP age:', oldest)"
   ]
  },
  {
   "cell_type": "code",
   "execution_count": 5,
   "metadata": {},
   "outputs": [],
   "source": [
    "url = 'https://www.basketball-reference.com/contracts/LAC.html'\n",
    "\n",
    "table_html = str((BeautifulSoup(urlopen(url), 'html.parser').findAll('table', id = 'contracts')[0]))"
   ]
  },
  {
   "cell_type": "code",
   "execution_count": 6,
   "metadata": {},
   "outputs": [
    {
     "data": {
      "text/html": [
       "<div>\n",
       "<style scoped>\n",
       "    .dataframe tbody tr th:only-of-type {\n",
       "        vertical-align: middle;\n",
       "    }\n",
       "\n",
       "    .dataframe tbody tr th {\n",
       "        vertical-align: top;\n",
       "    }\n",
       "\n",
       "    .dataframe thead th {\n",
       "        text-align: right;\n",
       "    }\n",
       "</style>\n",
       "<table border=\"1\" class=\"dataframe\">\n",
       "  <thead>\n",
       "    <tr style=\"text-align: right;\">\n",
       "      <th></th>\n",
       "      <th>Player</th>\n",
       "      <th>Age</th>\n",
       "      <th>2021-22</th>\n",
       "      <th>Guaranteed</th>\n",
       "    </tr>\n",
       "  </thead>\n",
       "  <tbody>\n",
       "    <tr>\n",
       "      <th>0</th>\n",
       "      <td>Paul George</td>\n",
       "      <td>32.0</td>\n",
       "      <td>$39,344,970</td>\n",
       "      <td>$127,477,703</td>\n",
       "    </tr>\n",
       "    <tr>\n",
       "      <th>1</th>\n",
       "      <td>Kawhi Leonard</td>\n",
       "      <td>30.0</td>\n",
       "      <td>$39,344,900</td>\n",
       "      <td>$127,477,476</td>\n",
       "    </tr>\n",
       "    <tr>\n",
       "      <th>2</th>\n",
       "      <td>Marcus Morris</td>\n",
       "      <td>32.0</td>\n",
       "      <td>$15,627,907</td>\n",
       "      <td>$49,116,279</td>\n",
       "    </tr>\n",
       "    <tr>\n",
       "      <th>3</th>\n",
       "      <td>Norman Powell</td>\n",
       "      <td>29.0</td>\n",
       "      <td>$15,517,242</td>\n",
       "      <td>$90,000,000</td>\n",
       "    </tr>\n",
       "    <tr>\n",
       "      <th>4</th>\n",
       "      <td>Robert Covington</td>\n",
       "      <td>31.0</td>\n",
       "      <td>$12,975,471</td>\n",
       "      <td>$36,975,471</td>\n",
       "    </tr>\n",
       "    <tr>\n",
       "      <th>5</th>\n",
       "      <td>Luke Kennard</td>\n",
       "      <td>25.0</td>\n",
       "      <td>$12,727,273</td>\n",
       "      <td>$41,236,364</td>\n",
       "    </tr>\n",
       "    <tr>\n",
       "      <th>6</th>\n",
       "      <td>Reggie Jackson</td>\n",
       "      <td>32.0</td>\n",
       "      <td>$10,384,500</td>\n",
       "      <td>$21,599,760</td>\n",
       "    </tr>\n",
       "    <tr>\n",
       "      <th>7</th>\n",
       "      <td>Ivica Zubac</td>\n",
       "      <td>25.0</td>\n",
       "      <td>$7,518,518</td>\n",
       "      <td>$7,518,518</td>\n",
       "    </tr>\n",
       "    <tr>\n",
       "      <th>8</th>\n",
       "      <td>Nicolas Batum</td>\n",
       "      <td>33.0</td>\n",
       "      <td>$3,170,029</td>\n",
       "      <td>$3,170,029</td>\n",
       "    </tr>\n",
       "    <tr>\n",
       "      <th>9</th>\n",
       "      <td>Rodney Hood</td>\n",
       "      <td>29.0</td>\n",
       "      <td>$2,239,544</td>\n",
       "      <td>$2,239,544</td>\n",
       "    </tr>\n",
       "    <tr>\n",
       "      <th>10</th>\n",
       "      <td>Terance Mann</td>\n",
       "      <td>25.0</td>\n",
       "      <td>$1,782,621</td>\n",
       "      <td>$25,713,302</td>\n",
       "    </tr>\n",
       "    <tr>\n",
       "      <th>11</th>\n",
       "      <td>Isaiah Hartenstein</td>\n",
       "      <td>24.0</td>\n",
       "      <td>$1,729,217</td>\n",
       "      <td>NaN</td>\n",
       "    </tr>\n",
       "    <tr>\n",
       "      <th>12</th>\n",
       "      <td>Jason Preston</td>\n",
       "      <td>22.0</td>\n",
       "      <td>$1,062,303</td>\n",
       "      <td>$2,625,821</td>\n",
       "    </tr>\n",
       "    <tr>\n",
       "      <th>13</th>\n",
       "      <td>Brandon Boston Jr.</td>\n",
       "      <td>20.0</td>\n",
       "      <td>$925,258</td>\n",
       "      <td>$2,488,776</td>\n",
       "    </tr>\n",
       "    <tr>\n",
       "      <th>14</th>\n",
       "      <td>Amir Coffey</td>\n",
       "      <td>24.0</td>\n",
       "      <td>$153,488</td>\n",
       "      <td>$153,488</td>\n",
       "    </tr>\n",
       "    <tr>\n",
       "      <th>15</th>\n",
       "      <td>Xavier Moon</td>\n",
       "      <td>27.0</td>\n",
       "      <td>NaN</td>\n",
       "      <td>$159,528</td>\n",
       "    </tr>\n",
       "    <tr>\n",
       "      <th>16</th>\n",
       "      <td>Jay Scrubb</td>\n",
       "      <td>21.0</td>\n",
       "      <td>NaN</td>\n",
       "      <td>NaN</td>\n",
       "    </tr>\n",
       "    <tr>\n",
       "      <th>17</th>\n",
       "      <td>NaN</td>\n",
       "      <td>NaN</td>\n",
       "      <td>NaN</td>\n",
       "      <td>NaN</td>\n",
       "    </tr>\n",
       "    <tr>\n",
       "      <th>18</th>\n",
       "      <td>Semi Ojeleye</td>\n",
       "      <td>27.0</td>\n",
       "      <td>$1,789,256</td>\n",
       "      <td>$1,789,256</td>\n",
       "    </tr>\n",
       "    <tr>\n",
       "      <th>19</th>\n",
       "      <td>Team Totals</td>\n",
       "      <td>NaN</td>\n",
       "      <td>$166,292,497</td>\n",
       "      <td>$539,741,315</td>\n",
       "    </tr>\n",
       "  </tbody>\n",
       "</table>\n",
       "</div>"
      ],
      "text/plain": [
       "                Player   Age       2021-22    Guaranteed\n",
       "0          Paul George  32.0   $39,344,970  $127,477,703\n",
       "1        Kawhi Leonard  30.0   $39,344,900  $127,477,476\n",
       "2        Marcus Morris  32.0   $15,627,907   $49,116,279\n",
       "3        Norman Powell  29.0   $15,517,242   $90,000,000\n",
       "4     Robert Covington  31.0   $12,975,471   $36,975,471\n",
       "5         Luke Kennard  25.0   $12,727,273   $41,236,364\n",
       "6       Reggie Jackson  32.0   $10,384,500   $21,599,760\n",
       "7          Ivica Zubac  25.0    $7,518,518    $7,518,518\n",
       "8        Nicolas Batum  33.0    $3,170,029    $3,170,029\n",
       "9          Rodney Hood  29.0    $2,239,544    $2,239,544\n",
       "10        Terance Mann  25.0    $1,782,621   $25,713,302\n",
       "11  Isaiah Hartenstein  24.0    $1,729,217           NaN\n",
       "12       Jason Preston  22.0    $1,062,303    $2,625,821\n",
       "13  Brandon Boston Jr.  20.0      $925,258    $2,488,776\n",
       "14         Amir Coffey  24.0      $153,488      $153,488\n",
       "15         Xavier Moon  27.0           NaN      $159,528\n",
       "16          Jay Scrubb  21.0           NaN           NaN\n",
       "17                 NaN   NaN           NaN           NaN\n",
       "18        Semi Ojeleye  27.0    $1,789,256    $1,789,256\n",
       "19         Team Totals   NaN  $166,292,497  $539,741,315"
      ]
     },
     "execution_count": 6,
     "metadata": {},
     "output_type": "execute_result"
    }
   ],
   "source": [
    "df_salary = pd.read_html(table_html)[0]\n",
    "df_salary.columns = df_salary.columns.droplevel(0)\n",
    "\n",
    "df1_salary = df_salary[['Player', 'Age', '2021-22', 'Guaranteed']]\n",
    "df1_salary"
   ]
  },
  {
   "cell_type": "code",
   "execution_count": 7,
   "metadata": {
    "scrolled": true
   },
   "outputs": [
    {
     "name": "stderr",
     "output_type": "stream",
     "text": [
      "<ipython-input-7-2e793da30f7f>:1: SettingWithCopyWarning: \n",
      "A value is trying to be set on a copy of a slice from a DataFrame.\n",
      "Try using .loc[row_indexer,col_indexer] = value instead\n",
      "\n",
      "See the caveats in the documentation: https://pandas.pydata.org/pandas-docs/stable/user_guide/indexing.html#returning-a-view-versus-a-copy\n",
      "  df1_salary['2021-22'] = df1_salary['2021-22'].apply(lambda x: x.replace('$', '').replace(',', '')\n",
      "<ipython-input-7-2e793da30f7f>:4: SettingWithCopyWarning: \n",
      "A value is trying to be set on a copy of a slice from a DataFrame.\n",
      "Try using .loc[row_indexer,col_indexer] = value instead\n",
      "\n",
      "See the caveats in the documentation: https://pandas.pydata.org/pandas-docs/stable/user_guide/indexing.html#returning-a-view-versus-a-copy\n",
      "  df1_salary['Guaranteed'] = df1_salary['Guaranteed'].apply(lambda x: x.replace('$', '').replace(',', '')\n"
     ]
    }
   ],
   "source": [
    "df1_salary['2021-22'] = df1_salary['2021-22'].apply(lambda x: x.replace('$', '').replace(',', '')\n",
    "                                if isinstance(x, str) else x).astype(float)\n",
    "\n",
    "df1_salary['Guaranteed'] = df1_salary['Guaranteed'].apply(lambda x: x.replace('$', '').replace(',', '')\n",
    "                                if isinstance(x, str) else x).astype(float)"
   ]
  },
  {
   "cell_type": "code",
   "execution_count": 8,
   "metadata": {},
   "outputs": [
    {
     "name": "stdout",
     "output_type": "stream",
     "text": [
      "8752236.68\n",
      "nan\n"
     ]
    }
   ],
   "source": [
    "average_salary = (df1_salary.at[len(df1_salary) -1, '2021-22'])/(len(df1_salary)-1)\n",
    "print(round(average_salary, 2))\n",
    "\n",
    "average_age = (df1_salary.at[len(df1_salary) - 1, 'Age'])/(len(df1_salary) - 1)\n",
    "print(round(average_age, 2))"
   ]
  },
  {
   "cell_type": "code",
   "execution_count": 12,
   "metadata": {},
   "outputs": [],
   "source": [
    "url_curry = 'https://www.basketball-reference.com/players/c/curryst01.html'\n",
    "\n",
    "table_html_curry = str((BeautifulSoup(urlopen(url_curry), 'html.parser').findAll('table', id = 'per_game')[0]))\n",
    "\n",
    "url_miller = 'https://www.basketball-reference.com/players/m/millere01.html'\n",
    "\n",
    "table_html_miller = str((BeautifulSoup(urlopen(url_miller), 'html.parser').findAll('table', id = 'per_game')[0]))"
   ]
  },
  {
   "cell_type": "code",
   "execution_count": 13,
   "metadata": {},
   "outputs": [],
   "source": [
    "df_curry = pd.read_html(table_html_curry)[0]\n",
    "\n",
    "df1_curry = df_curry.iloc[0:17, [0, 1, 5, 6, 7, 8, 9, 10, 11, 12, 13, 14, 15, 16, 17, 18, 19, 20, 21, 22, 23, 24, 25, 26, 27, 28, 29]]\n",
    "\n",
    "df_miller = pd.read_html(table_html_miller)[0]\n",
    "\n",
    "df1_miller = df_miller.iloc[0:17, [0, 1, 5, 6, 7, 8, 9, 10, 11, 12, 13, 14, 15, 16, 17, 18, 19, 20, 21, 22, 23, 24, 25, 26, 27, 28, 29]]"
   ]
  },
  {
   "cell_type": "code",
   "execution_count": 21,
   "metadata": {
    "scrolled": true
   },
   "outputs": [
    {
     "data": {
      "image/png": "[encoded data removed]",
      "text/plain": [
       "<Figure size 432x288 with 1 Axes>"
      ]
     },
     "metadata": {
      "needs_background": "light"
     },
     "output_type": "display_data"
    }
   ],
   "source": [
    "import matplotlib.pyplot as plt\n",
    "\n",
    "fig = plt.figure()\n",
    "ax1 = fig.add_subplot(111)\n",
    "ax1.scatter(x = df1_curry['3PA'], y = df1_curry['3P'], marker = 'o', label = 'curry')\n",
    "ax1.scatter(x = df1_miller['3PA'], y = df1_miller['3P'], marker = 'x', label = 'miller')\n",
    "plt.legend()\n",
    "plt.show()\n"
   ]
  },
  {
   "cell_type": "code",
   "execution_count": 26,
   "metadata": {},
   "outputs": [
    {
     "ename": "AttributeError",
     "evalue": "'NoneType' object has no attribute 'find'",
     "output_type": "error",
     "traceback": [
      "\u001b[1;31m---------------------------------------------------------------------------\u001b[0m",
      "\u001b[1;31mAttributeError\u001b[0m                            Traceback (most recent call last)",
      "\u001b[1;32m<ipython-input-26-c42f6956dbb4>\u001b[0m in \u001b[0;36m<module>\u001b[1;34m\u001b[0m\n\u001b[0;32m     13\u001b[0m         )\n\u001b[0;32m     14\u001b[0m \u001b[1;33m\u001b[0m\u001b[0m\n\u001b[1;32m---> 15\u001b[1;33m     \u001b[0mtable_E_head\u001b[0m \u001b[1;33m=\u001b[0m \u001b[0mtable_E\u001b[0m\u001b[1;33m.\u001b[0m\u001b[0mfind\u001b[0m\u001b[1;33m(\u001b[0m\u001b[1;34m\"thead\"\u001b[0m\u001b[1;33m)\u001b[0m\u001b[1;33m.\u001b[0m\u001b[0mfindAll\u001b[0m\u001b[1;33m(\u001b[0m\u001b[1;34m\"tr\"\u001b[0m\u001b[1;33m)\u001b[0m\u001b[1;33m[\u001b[0m\u001b[1;36m1\u001b[0m\u001b[1;33m]\u001b[0m\u001b[1;33m\u001b[0m\u001b[1;33m\u001b[0m\u001b[0m\n\u001b[0m\u001b[0;32m     16\u001b[0m     \u001b[0mtable_E_body\u001b[0m \u001b[1;33m=\u001b[0m \u001b[0mtable_E\u001b[0m\u001b[1;33m.\u001b[0m\u001b[0mfind\u001b[0m\u001b[1;33m(\u001b[0m\u001b[1;34m\"tbody\"\u001b[0m\u001b[1;33m)\u001b[0m\u001b[1;33m.\u001b[0m\u001b[0mfindAll\u001b[0m\u001b[1;33m(\u001b[0m\u001b[1;34m\"tr\"\u001b[0m\u001b[1;33m)\u001b[0m\u001b[1;33m\u001b[0m\u001b[1;33m\u001b[0m\u001b[0m\n\u001b[0;32m     17\u001b[0m \u001b[1;33m\u001b[0m\u001b[0m\n",
      "\u001b[1;31mAttributeError\u001b[0m: 'NoneType' object has no attribute 'find'"
     ]
    }
   ],
   "source": [
    "data = pd.DataFrame()\n",
    "\n",
    "\n",
    "for year in range(1977, 2021):\n",
    "    url = f\"https://www.basketball-reference.com/leagues/NBA_{year}_standings.html\"\n",
    "    page = requests.get(url)\n",
    "    \n",
    "    soup = BeautifulSoup(page.content, \"html.parser\")\n",
    "    table_E = soup.find(\n",
    "        lambda tag: tag.name == \"table\"\n",
    "        and tag.has_attr(\"id\")\n",
    "        and tag[\"id\"] == \"confs_standings_E\"\n",
    "        )\n",
    "\n",
    "    table_E_head = table_E.find(\"thead\").findAll(\"tr\")[1]\n",
    "    table_E_body = table_E.find(\"tbody\").findAll(\"tr\")\n",
    "\n",
    "    # extracts data from table head\n",
    "    column_headers = [th.getText() for th in table_E_head]\n",
    "    filtered_column_headers = list(filter(lambda t: t != \" \", column_headers))[1:]\n",
    "\n",
    "    # actual data from the table\n",
    "    team_data = [\n",
    "        [td.getText() for td in table_E_body[i].findAll(\"td\")]\n",
    "        for i in range(len(table_E_body))\n",
    "        ]\n",
    "\n",
    "    df = pd.DataFrame(team_data, columns=filtered_column_headers)\n",
    "    df[\"Year\"] = year\n",
    "    data = pd.concat([data, df])\n",
    "    print(year)\n",
    "    \n",
    "data.to_csv('../data/teams.csv')"
   ]
  },
  {
   "cell_type": "code",
   "execution_count": null,
   "metadata": {},
   "outputs": [],
   "source": [
    "for year in range(1977, 2021):\n",
    "    url = f\"https://www.basketball-reference.com/leagues/NBA_{year}_standings.html\"\n",
    "    page = requests.get(url)\n",
    "    \n",
    "    soup = BeautifulSoup(page.content, \"html.parser\")\n",
    "    table_E = soup.find(\n",
    "        lambda tag: tag.name == \"table\"\n",
    "        and tag.has_attr(\"id\")\n",
    "        and tag[\"id\"] == \"confs_standings_E\"\n",
    "        \n",
    "    table_W = soup.find(\n",
    "        lambda tag: tag.name == \"table\"\n",
    "        and tag.has_attr(\"id\")\n",
    "        and tag[\"id\"] == \"confs_standings_W\""
   ]
  }
 ],
 "metadata": {
  "kernelspec": {
   "display_name": "Python 3",
   "language": "python",
   "name": "python3"
  },
  "language_info": {
   "codemirror_mode": {
    "name": "ipython",
    "version": 3
   },
   "file_extension": ".py",
   "mimetype": "text/x-python",
   "name": "python",
   "nbconvert_exporter": "python",
   "pygments_lexer": "ipython3",
   "version": "3.8.5"
  }
 },
 "nbformat": 4,
 "nbformat_minor": 4
}
